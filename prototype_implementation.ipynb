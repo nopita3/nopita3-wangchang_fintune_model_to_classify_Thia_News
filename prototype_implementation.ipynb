{
 "cells": [
  {
   "cell_type": "code",
   "execution_count": 1,
   "id": "e67ee657",
   "metadata": {},
   "outputs": [],
   "source": [
    "import json, torch, numpy as np\n",
    "from transformers import AutoTokenizer, AutoModelForSequenceClassification"
   ]
  },
  {
   "cell_type": "code",
   "execution_count": 2,
   "id": "04a5a580",
   "metadata": {},
   "outputs": [],
   "source": [
    "\n",
    "MODEL_DIR = \"wcberta-prachathai67k-best\"  # โฟลเดอร์ที่ save_pretrained ไว้\n",
    "MAX_LEN   = 512\n",
    "THRESH    = 0.5                           # เกณฑ์เริ่มต้น (ปรับได้)\n"
   ]
  },
  {
   "cell_type": "code",
   "execution_count": 3,
   "id": "48ec75d6",
   "metadata": {},
   "outputs": [
    {
     "name": "stderr",
     "output_type": "stream",
     "text": [
      "2025-09-29 23:06:34.507719: I tensorflow/core/util/port.cc:153] oneDNN custom operations are on. You may see slightly different numerical results due to floating-point round-off errors from different computation orders. To turn them off, set the environment variable `TF_ENABLE_ONEDNN_OPTS=0`.\n",
      "2025-09-29 23:06:34.626699: I tensorflow/core/platform/cpu_feature_guard.cc:210] This TensorFlow binary is optimized to use available CPU instructions in performance-critical operations.\n",
      "To enable the following instructions: AVX2 AVX_VNNI FMA, in other operations, rebuild TensorFlow with the appropriate compiler flags.\n"
     ]
    },
    {
     "ename": "AttributeError",
     "evalue": "'MessageFactory' object has no attribute 'GetPrototype'",
     "output_type": "error",
     "traceback": [
      "\u001b[31m---------------------------------------------------------------------------\u001b[39m",
      "\u001b[31mAttributeError\u001b[39m                            Traceback (most recent call last)",
      "\u001b[31mAttributeError\u001b[39m: 'MessageFactory' object has no attribute 'GetPrototype'"
     ]
    },
    {
     "name": "stderr",
     "output_type": "stream",
     "text": [
      "2025-09-29 23:06:36.443614: I tensorflow/core/util/port.cc:153] oneDNN custom operations are on. You may see slightly different numerical results due to floating-point round-off errors from different computation orders. To turn them off, set the environment variable `TF_ENABLE_ONEDNN_OPTS=0`.\n"
     ]
    },
    {
     "name": "stdout",
     "output_type": "stream",
     "text": [
      "cuda\n"
     ]
    },
    {
     "data": {
      "text/plain": [
       "CamembertForSequenceClassification(\n",
       "  (roberta): CamembertModel(\n",
       "    (embeddings): CamembertEmbeddings(\n",
       "      (word_embeddings): Embedding(25005, 768, padding_idx=1)\n",
       "      (position_embeddings): Embedding(512, 768, padding_idx=1)\n",
       "      (token_type_embeddings): Embedding(1, 768)\n",
       "      (LayerNorm): LayerNorm((768,), eps=1e-12, elementwise_affine=True)\n",
       "      (dropout): Dropout(p=0.1, inplace=False)\n",
       "    )\n",
       "    (encoder): CamembertEncoder(\n",
       "      (layer): ModuleList(\n",
       "        (0-11): 12 x CamembertLayer(\n",
       "          (attention): CamembertAttention(\n",
       "            (self): CamembertSdpaSelfAttention(\n",
       "              (query): Linear(in_features=768, out_features=768, bias=True)\n",
       "              (key): Linear(in_features=768, out_features=768, bias=True)\n",
       "              (value): Linear(in_features=768, out_features=768, bias=True)\n",
       "              (dropout): Dropout(p=0.1, inplace=False)\n",
       "            )\n",
       "            (output): CamembertSelfOutput(\n",
       "              (dense): Linear(in_features=768, out_features=768, bias=True)\n",
       "              (LayerNorm): LayerNorm((768,), eps=1e-12, elementwise_affine=True)\n",
       "              (dropout): Dropout(p=0.1, inplace=False)\n",
       "            )\n",
       "          )\n",
       "          (intermediate): CamembertIntermediate(\n",
       "            (dense): Linear(in_features=768, out_features=3072, bias=True)\n",
       "            (intermediate_act_fn): GELUActivation()\n",
       "          )\n",
       "          (output): CamembertOutput(\n",
       "            (dense): Linear(in_features=3072, out_features=768, bias=True)\n",
       "            (LayerNorm): LayerNorm((768,), eps=1e-12, elementwise_affine=True)\n",
       "            (dropout): Dropout(p=0.1, inplace=False)\n",
       "          )\n",
       "        )\n",
       "      )\n",
       "    )\n",
       "  )\n",
       "  (classifier): CamembertClassificationHead(\n",
       "    (dense): Linear(in_features=768, out_features=768, bias=True)\n",
       "    (dropout): Dropout(p=0.1, inplace=False)\n",
       "    (out_proj): Linear(in_features=768, out_features=12, bias=True)\n",
       "  )\n",
       ")"
      ]
     },
     "execution_count": 3,
     "metadata": {},
     "output_type": "execute_result"
    }
   ],
   "source": [
    "# ----- load -----\n",
    "tok = AutoTokenizer.from_pretrained(MODEL_DIR)\n",
    "model = AutoModelForSequenceClassification.from_pretrained(MODEL_DIR).eval()\n",
    "device = torch.device(\"cuda\" if torch.cuda.is_available() else \"cpu\")\n",
    "print(device)\n",
    "model.to(device)"
   ]
  },
  {
   "cell_type": "code",
   "execution_count": 4,
   "id": "576406fc",
   "metadata": {},
   "outputs": [],
   "source": [
    "with open(f\"{MODEL_DIR}/label_names.json\", encoding=\"utf-8\") as f:\n",
    "    LABELS = json.load(f)\n",
    "sigmoid = torch.nn.Sigmoid()\n",
    "\n",
    "def predict_with_probs(texts: list[str], threshold :float = THRESH , top_k:int = None):\n",
    "    \"\"\"\n",
    "    คืน:\n",
    "      - probs_sorted: รายชื่อคลาส + prob เรียงจากมากไปน้อย\n",
    "      - chosen: รายการคลาสที่ “ผ่านเกณฑ์” (threshold หรือ top_k)\n",
    "    \"\"\"\n",
    "    enc = tok(texts, return_tensors=\"pt\", truncation=True, max_length=MAX_LEN, padding=True)\n",
    "    enc = {k: v.to(device) for k, v in enc.items()}\n",
    "    \n",
    "    with torch.no_grad():\n",
    "        logits = model(**enc).logits\n",
    "        probs = sigmoid(logits).cpu().numpy()  # (B, C)\n",
    "\n",
    "    results = []\n",
    "    for i, text in enumerate(texts):\n",
    "        p = probs[i]                                 # ความน่าจะเป็นต่อคลาส\n",
    "        order = np.argsort(p)[::-1]                  # เรียงมาก→น้อย\n",
    "        probs_sorted = [(LABELS[j], float(p[j])) for j in order]\n",
    "\n",
    "        if top_k and top_k > 0:\n",
    "            chosen = [LABELS[j] for j in order[:top_k]]\n",
    "        else:\n",
    "            chosen = []\n",
    "            for name , prob in probs_sorted:\n",
    "                \n",
    "                if prob >= threshold:\n",
    "                    chosen.append(name)\n",
    "                else:\n",
    "                    break\n",
    "            \n",
    "\n",
    "        results.append({\n",
    "            \"text\": text,\n",
    "            \"probs_sorted\": probs_sorted,  # ดูอันดับทั้งหมดได้\n",
    "            \"chosen\": chosen               # คำตอบหลายคลาส\n",
    "        })\n",
    "    return results\n"
   ]
  },
  {
   "cell_type": "code",
   "execution_count": 35,
   "id": "9990d0d3",
   "metadata": {},
   "outputs": [
    {
     "name": "stdout",
     "output_type": "stream",
     "text": [
      "input_ids torch.Size([2, 14])\n",
      "attention_mask torch.Size([2, 14])\n",
      "probabilities: [[0.094813   0.03203046 0.14694627 0.05094523 0.06387997 0.5966782\n",
      "  0.0143029  0.0954277  0.00316024 0.00601025 0.00317499 0.01713263]\n",
      " [0.12909263 0.013613   0.09683387 0.0191351  0.05163206 0.01593181\n",
      "  0.844995   0.00625629 0.06561758 0.00528117 0.00231148 0.00903101]]\n",
      "[ 5  2  7  0  4  3  1 11  6  9 10  8]\n",
      "[('environment', 0.5966781973838806), ('quality_of_life', 0.1469462662935257), ('culture', 0.09542769938707352), ('politics', 0.09481299668550491), ('social', 0.06387996673583984), ('international', 0.050945233553647995), ('human_rights', 0.032030459493398666), ('education', 0.017132626846432686), ('economics', 0.014302900992333889), ('national_security', 0.006010252051055431), ('ict', 0.0031749894842505455), ('labor', 0.0031602417584508657)]\n",
      "[ 6  0  2  8  4  3  5  1 11  7  9 10]\n",
      "[('economics', 0.8449950218200684), ('politics', 0.12909263372421265), ('quality_of_life', 0.09683386981487274), ('labor', 0.06561757624149323), ('social', 0.05163206160068512), ('international', 0.019135095179080963), ('environment', 0.015931811183691025), ('human_rights', 0.013613003306090832), ('education', 0.009031006135046482), ('culture', 0.00625629210844636), ('national_security', 0.005281165707856417), ('ict', 0.002311475807800889)]\n"
     ]
    },
    {
     "data": {
      "text/plain": [
       "[{'text': 'วันนี้อากาศดีมาก ฉันไปเที่ยวทะเลกับเพื่อนๆ มันสนุกสุดๆ เลย',\n",
       "  'probs_sorted': [('environment', 0.5966781973838806),\n",
       "   ('quality_of_life', 0.1469462662935257),\n",
       "   ('culture', 0.09542769938707352),\n",
       "   ('politics', 0.09481299668550491),\n",
       "   ('social', 0.06387996673583984),\n",
       "   ('international', 0.050945233553647995),\n",
       "   ('human_rights', 0.032030459493398666),\n",
       "   ('education', 0.017132626846432686),\n",
       "   ('economics', 0.014302900992333889),\n",
       "   ('national_security', 0.006010252051055431),\n",
       "   ('ict', 0.0031749894842505455),\n",
       "   ('labor', 0.0031602417584508657)],\n",
       "  'chosen': ['environment']},\n",
       " {'text': 'สภาพเศรษฐกิจวันนี้ เป็นปีเผาไม่เหมาะแก่การลงทุน',\n",
       "  'probs_sorted': [('economics', 0.8449950218200684),\n",
       "   ('politics', 0.12909263372421265),\n",
       "   ('quality_of_life', 0.09683386981487274),\n",
       "   ('labor', 0.06561757624149323),\n",
       "   ('social', 0.05163206160068512),\n",
       "   ('international', 0.019135095179080963),\n",
       "   ('environment', 0.015931811183691025),\n",
       "   ('human_rights', 0.013613003306090832),\n",
       "   ('education', 0.009031006135046482),\n",
       "   ('culture', 0.00625629210844636),\n",
       "   ('national_security', 0.005281165707856417),\n",
       "   ('ict', 0.002311475807800889)],\n",
       "  'chosen': ['economics']}]"
      ]
     },
     "metadata": {},
     "output_type": "display_data"
    }
   ],
   "source": [
    "texts = [\"วันนี้อากาศดีมาก ฉันไปเที่ยวทะเลกับเพื่อนๆ มันสนุกสุดๆ เลย\",\"สภาพเศรษฐกิจวันนี้ เป็นปีเผาไม่เหมาะแก่การลงทุน\"]\n",
    "enc = tok(texts , return_tensors=\"pt\", truncation=True, max_length=MAX_LEN, padding=True)\n",
    "\n",
    "for k, v in enc.items():\n",
    "\n",
    "    print(k, v.shape)\n",
    "\n",
    "enc = {k: v.to(device) for k, v in enc.items()}\n",
    "\n",
    "sigmoid = torch.nn.Sigmoid()\n",
    "with torch.no_grad():\n",
    "    logits = model(**enc).logits\n",
    "    probs = sigmoid(logits).cpu().numpy()  # (B, C)\n",
    "print(f'probabilities: {probs}')\n",
    "\n",
    "results = []\n",
    "for i, text in enumerate(texts):\n",
    "    p = probs[i]                                 # ความน่าจะเป็นต่อคลาส\n",
    "    order = np.argsort(p)[::-1]                  # เรียงมาก→น้อย\n",
    "\n",
    "    print(order)\n",
    "    \n",
    "    with open(f\"{MODEL_DIR}/label_names.json\", encoding=\"utf-8\") as f:\n",
    "        LABELS = json.load(f)\n",
    "\n",
    "    probs_sorted = [(LABELS[j], float(p[j])) for j in order]\n",
    "    print(probs_sorted)\n",
    "\n",
    "    chosen = []\n",
    "    for name , prob in probs_sorted:\n",
    "        \n",
    "        if prob >= THRESH:\n",
    "            chosen.append(name)\n",
    "        else:\n",
    "            break\n",
    "\n",
    "    results.append({\n",
    "            \"text\": text,\n",
    "            \"probs_sorted\": probs_sorted,  # ดูอันดับทั้งหมดได้\n",
    "            \"chosen\": chosen               # คำตอบหลายคลาส\n",
    "        })\n",
    "    \n",
    "display(results)\n"
   ]
  },
  {
   "cell_type": "code",
   "execution_count": 28,
   "id": "bb317a58",
   "metadata": {},
   "outputs": [
    {
     "name": "stdout",
     "output_type": "stream",
     "text": [
      "[('international', 0.9294572472572327), ('politics', 0.8450518250465393), ('national_security', 0.17128147184848785), ('human_rights', 0.14532507956027985), ('social', 0.0762568861246109), ('economics', 0.04198949411511421), ('culture', 0.023264257237315178), ('education', 0.022871769964694977), ('quality_of_life', 0.020220747217535973), ('labor', 0.00455600768327713), ('ict', 0.003268619067966938), ('environment', 0.0032459881622344255)]\n",
      "chosen: ['international', 'politics', 'national_security']\n",
      "[{'text': '\\n‘คำต่อคำ’ เปิดถ้อยแถลงสีหศักดิ์ กล่าวบนเวที UNGA80 ย้ำบทบาทไทยในเวทีโลก-แจงข้อเท็จจริงพิพาทกัมพูชา\\nสีหศักดิ์ พวงเกตุแก้ว รัฐมนตรีว่าการกระทรวงการต่างประเทศ ขึ้นกล่าวสุนทรพจน์ในการอภิปรายทั่วไปของการประชุมสมัชชาใหญ่แห่งสหประชาชาติ สมัยสามัญ ครั้งที่ 80 ณ สำนักงานใหญ่สหประชาชาติ นครนิวยอร์ก วานนี้ (27 กันยายน)    ประเด็นสำคัญ   เป็นประชาคมหนึ่งเดียว คำมั่นเดียวกัน อนาคตเดียวกัน\\n', 'probs_sorted': [('international', 0.9294572472572327), ('politics', 0.8450518250465393), ('national_security', 0.17128147184848785), ('human_rights', 0.14532507956027985), ('social', 0.0762568861246109), ('economics', 0.04198949411511421), ('culture', 0.023264257237315178), ('education', 0.022871769964694977), ('quality_of_life', 0.020220747217535973), ('labor', 0.00455600768327713), ('ict', 0.003268619067966938), ('environment', 0.0032459881622344255)], 'chosen': ['international', 'politics', 'national_security']}]\n"
     ]
    }
   ],
   "source": [
    "texts = [\"\"\"\n",
    "‘คำต่อคำ’ เปิดถ้อยแถลงสีหศักดิ์ กล่าวบนเวที UNGA80 ย้ำบทบาทไทยในเวทีโลก-แจงข้อเท็จจริงพิพาทกัมพูชา\n",
    "สีหศักดิ์ พวงเกตุแก้ว รัฐมนตรีว่าการกระทรวงการต่างประเทศ ขึ้นกล่าวสุนทรพจน์ในการอภิปรายทั่วไปของการประชุมสมัชชาใหญ่แห่งสหประชาชาติ สมัยสามัญ ครั้งที่ 80 ณ สำนักงานใหญ่สหประชาชาติ นครนิวยอร์ก วานนี้ (27 กันยายน)    ประเด็นสำคัญ   เป็นประชาคมหนึ่งเดียว คำมั่นเดียวกัน อนาคตเดียวกัน\n",
    "\"\"\"]  \n",
    "out = predict_with_probs(texts, threshold=None , top_k=3)  # หรือกำหนด top_k=2\n",
    "print(out[0][\"probs_sorted\"])  # ดู 5 คลาสที่คะแนนสูงสุด\n",
    "print(\"chosen:\", out[0][\"chosen\"])\n",
    "print(out)"
   ]
  }
 ],
 "metadata": {
  "kernelspec": {
   "display_name": "Python 3",
   "language": "python",
   "name": "python3"
  },
  "language_info": {
   "codemirror_mode": {
    "name": "ipython",
    "version": 3
   },
   "file_extension": ".py",
   "mimetype": "text/x-python",
   "name": "python",
   "nbconvert_exporter": "python",
   "pygments_lexer": "ipython3",
   "version": "3.12.11"
  }
 },
 "nbformat": 4,
 "nbformat_minor": 5
}
